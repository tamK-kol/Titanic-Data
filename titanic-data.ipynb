{
 "cells": [
  {
   "cell_type": "code",
   "execution_count": 1,
   "id": "8c8cd5a1",
   "metadata": {
    "_cell_guid": "b1076dfc-b9ad-4769-8c92-a6c4dae69d19",
    "_uuid": "8f2839f25d086af736a60e9eeb907d3b93b6e0e5",
    "execution": {
     "iopub.execute_input": "2023-12-20T15:53:08.184832Z",
     "iopub.status.busy": "2023-12-20T15:53:08.184510Z",
     "iopub.status.idle": "2023-12-20T15:53:08.515707Z",
     "shell.execute_reply": "2023-12-20T15:53:08.514830Z"
    },
    "papermill": {
     "duration": 0.340362,
     "end_time": "2023-12-20T15:53:08.517977",
     "exception": false,
     "start_time": "2023-12-20T15:53:08.177615",
     "status": "completed"
    },
    "tags": []
   },
   "outputs": [],
   "source": [
    "import pandas as pd\n",
    "train_data = pd.read_csv('/kaggle/input/titanic/train.csv')\n"
   ]
  },
  {
   "cell_type": "code",
   "execution_count": 2,
   "id": "e5b643b2",
   "metadata": {
    "execution": {
     "iopub.execute_input": "2023-12-20T15:53:08.532155Z",
     "iopub.status.busy": "2023-12-20T15:53:08.530978Z",
     "iopub.status.idle": "2023-12-20T15:53:08.556800Z",
     "shell.execute_reply": "2023-12-20T15:53:08.555616Z"
    },
    "papermill": {
     "duration": 0.035331,
     "end_time": "2023-12-20T15:53:08.559364",
     "exception": false,
     "start_time": "2023-12-20T15:53:08.524033",
     "status": "completed"
    },
    "tags": []
   },
   "outputs": [
    {
     "data": {
      "text/html": [
       "<div>\n",
       "<style scoped>\n",
       "    .dataframe tbody tr th:only-of-type {\n",
       "        vertical-align: middle;\n",
       "    }\n",
       "\n",
       "    .dataframe tbody tr th {\n",
       "        vertical-align: top;\n",
       "    }\n",
       "\n",
       "    .dataframe thead th {\n",
       "        text-align: right;\n",
       "    }\n",
       "</style>\n",
       "<table border=\"1\" class=\"dataframe\">\n",
       "  <thead>\n",
       "    <tr style=\"text-align: right;\">\n",
       "      <th></th>\n",
       "      <th>PassengerId</th>\n",
       "      <th>Survived</th>\n",
       "      <th>Pclass</th>\n",
       "      <th>Name</th>\n",
       "      <th>Sex</th>\n",
       "      <th>Age</th>\n",
       "      <th>SibSp</th>\n",
       "      <th>Parch</th>\n",
       "      <th>Ticket</th>\n",
       "      <th>Fare</th>\n",
       "      <th>Cabin</th>\n",
       "      <th>Embarked</th>\n",
       "    </tr>\n",
       "  </thead>\n",
       "  <tbody>\n",
       "    <tr>\n",
       "      <th>0</th>\n",
       "      <td>1</td>\n",
       "      <td>0</td>\n",
       "      <td>3</td>\n",
       "      <td>Braund, Mr. Owen Harris</td>\n",
       "      <td>male</td>\n",
       "      <td>22.0</td>\n",
       "      <td>1</td>\n",
       "      <td>0</td>\n",
       "      <td>A/5 21171</td>\n",
       "      <td>7.2500</td>\n",
       "      <td>NaN</td>\n",
       "      <td>S</td>\n",
       "    </tr>\n",
       "    <tr>\n",
       "      <th>1</th>\n",
       "      <td>2</td>\n",
       "      <td>1</td>\n",
       "      <td>1</td>\n",
       "      <td>Cumings, Mrs. John Bradley (Florence Briggs Th...</td>\n",
       "      <td>female</td>\n",
       "      <td>38.0</td>\n",
       "      <td>1</td>\n",
       "      <td>0</td>\n",
       "      <td>PC 17599</td>\n",
       "      <td>71.2833</td>\n",
       "      <td>C85</td>\n",
       "      <td>C</td>\n",
       "    </tr>\n",
       "    <tr>\n",
       "      <th>2</th>\n",
       "      <td>3</td>\n",
       "      <td>1</td>\n",
       "      <td>3</td>\n",
       "      <td>Heikkinen, Miss. Laina</td>\n",
       "      <td>female</td>\n",
       "      <td>26.0</td>\n",
       "      <td>0</td>\n",
       "      <td>0</td>\n",
       "      <td>STON/O2. 3101282</td>\n",
       "      <td>7.9250</td>\n",
       "      <td>NaN</td>\n",
       "      <td>S</td>\n",
       "    </tr>\n",
       "  </tbody>\n",
       "</table>\n",
       "</div>"
      ],
      "text/plain": [
       "   PassengerId  Survived  Pclass  \\\n",
       "0            1         0       3   \n",
       "1            2         1       1   \n",
       "2            3         1       3   \n",
       "\n",
       "                                                Name     Sex   Age  SibSp  \\\n",
       "0                            Braund, Mr. Owen Harris    male  22.0      1   \n",
       "1  Cumings, Mrs. John Bradley (Florence Briggs Th...  female  38.0      1   \n",
       "2                             Heikkinen, Miss. Laina  female  26.0      0   \n",
       "\n",
       "   Parch            Ticket     Fare Cabin Embarked  \n",
       "0      0         A/5 21171   7.2500   NaN        S  \n",
       "1      0          PC 17599  71.2833   C85        C  \n",
       "2      0  STON/O2. 3101282   7.9250   NaN        S  "
      ]
     },
     "execution_count": 2,
     "metadata": {},
     "output_type": "execute_result"
    }
   ],
   "source": [
    "train_data.head(3)"
   ]
  },
  {
   "cell_type": "code",
   "execution_count": 3,
   "id": "df38f2a4",
   "metadata": {
    "execution": {
     "iopub.execute_input": "2023-12-20T15:53:08.571022Z",
     "iopub.status.busy": "2023-12-20T15:53:08.570614Z",
     "iopub.status.idle": "2023-12-20T15:53:08.593607Z",
     "shell.execute_reply": "2023-12-20T15:53:08.592460Z"
    },
    "papermill": {
     "duration": 0.030928,
     "end_time": "2023-12-20T15:53:08.595518",
     "exception": false,
     "start_time": "2023-12-20T15:53:08.564590",
     "status": "completed"
    },
    "tags": []
   },
   "outputs": [
    {
     "name": "stdout",
     "output_type": "stream",
     "text": [
      "<class 'pandas.core.frame.DataFrame'>\n",
      "RangeIndex: 891 entries, 0 to 890\n",
      "Data columns (total 12 columns):\n",
      " #   Column       Non-Null Count  Dtype  \n",
      "---  ------       --------------  -----  \n",
      " 0   PassengerId  891 non-null    int64  \n",
      " 1   Survived     891 non-null    int64  \n",
      " 2   Pclass       891 non-null    int64  \n",
      " 3   Name         891 non-null    object \n",
      " 4   Sex          891 non-null    object \n",
      " 5   Age          714 non-null    float64\n",
      " 6   SibSp        891 non-null    int64  \n",
      " 7   Parch        891 non-null    int64  \n",
      " 8   Ticket       891 non-null    object \n",
      " 9   Fare         891 non-null    float64\n",
      " 10  Cabin        204 non-null    object \n",
      " 11  Embarked     889 non-null    object \n",
      "dtypes: float64(2), int64(5), object(5)\n",
      "memory usage: 83.7+ KB\n"
     ]
    }
   ],
   "source": [
    "train_data.info()"
   ]
  },
  {
   "cell_type": "code",
   "execution_count": 4,
   "id": "d96d0d41",
   "metadata": {
    "execution": {
     "iopub.execute_input": "2023-12-20T15:53:08.607630Z",
     "iopub.status.busy": "2023-12-20T15:53:08.606993Z",
     "iopub.status.idle": "2023-12-20T15:53:08.615933Z",
     "shell.execute_reply": "2023-12-20T15:53:08.614742Z"
    },
    "papermill": {
     "duration": 0.017818,
     "end_time": "2023-12-20T15:53:08.618379",
     "exception": false,
     "start_time": "2023-12-20T15:53:08.600561",
     "status": "completed"
    },
    "tags": []
   },
   "outputs": [
    {
     "data": {
      "text/plain": [
       "(891, True)"
      ]
     },
     "execution_count": 4,
     "metadata": {},
     "output_type": "execute_result"
    }
   ],
   "source": [
    "import numpy as np\n",
    "(np.unique(train_data['PassengerId'].values).size, \n",
    " np.unique(train_data['PassengerId'].values).size == train_data.shape[0])\n"
   ]
  },
  {
   "cell_type": "code",
   "execution_count": 5,
   "id": "0404856b",
   "metadata": {
    "execution": {
     "iopub.execute_input": "2023-12-20T15:53:08.630838Z",
     "iopub.status.busy": "2023-12-20T15:53:08.630474Z",
     "iopub.status.idle": "2023-12-20T15:53:08.644338Z",
     "shell.execute_reply": "2023-12-20T15:53:08.642981Z"
    },
    "papermill": {
     "duration": 0.022407,
     "end_time": "2023-12-20T15:53:08.646341",
     "exception": false,
     "start_time": "2023-12-20T15:53:08.623934",
     "status": "completed"
    },
    "tags": []
   },
   "outputs": [
    {
     "data": {
      "text/html": [
       "<div>\n",
       "<style scoped>\n",
       "    .dataframe tbody tr th:only-of-type {\n",
       "        vertical-align: middle;\n",
       "    }\n",
       "\n",
       "    .dataframe tbody tr th {\n",
       "        vertical-align: top;\n",
       "    }\n",
       "\n",
       "    .dataframe thead th {\n",
       "        text-align: right;\n",
       "    }\n",
       "</style>\n",
       "<table border=\"1\" class=\"dataframe\">\n",
       "  <thead>\n",
       "    <tr style=\"text-align: right;\">\n",
       "      <th></th>\n",
       "      <th>Survived</th>\n",
       "      <th>Pclass</th>\n",
       "      <th>Name</th>\n",
       "      <th>Sex</th>\n",
       "      <th>Age</th>\n",
       "      <th>SibSp</th>\n",
       "      <th>Parch</th>\n",
       "      <th>Ticket</th>\n",
       "      <th>Fare</th>\n",
       "      <th>Cabin</th>\n",
       "      <th>Embarked</th>\n",
       "    </tr>\n",
       "    <tr>\n",
       "      <th>PassengerId</th>\n",
       "      <th></th>\n",
       "      <th></th>\n",
       "      <th></th>\n",
       "      <th></th>\n",
       "      <th></th>\n",
       "      <th></th>\n",
       "      <th></th>\n",
       "      <th></th>\n",
       "      <th></th>\n",
       "      <th></th>\n",
       "      <th></th>\n",
       "    </tr>\n",
       "  </thead>\n",
       "  <tbody>\n",
       "  </tbody>\n",
       "</table>\n",
       "</div>"
      ],
      "text/plain": [
       "Empty DataFrame\n",
       "Columns: [Survived, Pclass, Name, Sex, Age, SibSp, Parch, Ticket, Fare, Cabin, Embarked]\n",
       "Index: []"
      ]
     },
     "execution_count": 5,
     "metadata": {},
     "output_type": "execute_result"
    }
   ],
   "source": [
    "train_data.set_index(['PassengerId'], inplace=True)\n",
    "train_data.head(0)"
   ]
  },
  {
   "cell_type": "code",
   "execution_count": 6,
   "id": "49be2e93",
   "metadata": {
    "execution": {
     "iopub.execute_input": "2023-12-20T15:53:08.658289Z",
     "iopub.status.busy": "2023-12-20T15:53:08.657965Z",
     "iopub.status.idle": "2023-12-20T15:53:08.667814Z",
     "shell.execute_reply": "2023-12-20T15:53:08.666726Z"
    },
    "papermill": {
     "duration": 0.017895,
     "end_time": "2023-12-20T15:53:08.669635",
     "exception": false,
     "start_time": "2023-12-20T15:53:08.651740",
     "status": "completed"
    },
    "tags": []
   },
   "outputs": [
    {
     "name": "stdout",
     "output_type": "stream",
     "text": [
      "Unique titles (17): \n",
      "['Capt.' 'Col.' 'Countess.' 'Don.' 'Dr.' 'Jonkheer.' 'Lady.' 'Major.'\n",
      " 'Master.' 'Miss.' 'Mlle.' 'Mme.' 'Mr.' 'Mrs.' 'Ms.' 'Rev.' 'Sir.']\n",
      "\n",
      "Number of titles that are NaN/Null: 0\n"
     ]
    }
   ],
   "source": [
    "import re\n",
    "patt = re.compile('\\s(\\S+\\.)') # 1 whitespace character followed by several\n",
    "\n",
    "titles = np.array([re.search(patt, i)[1] for i in train_data['Name'].values])\n",
    "\n",
    "print('Unique titles ({}): \\n{}'.format(np.unique(titles).shape[0], np.unique(titles)))\n",
    "print('')\n",
    "print('Number of titles that are NaN/Null: {}'.format(pd.isnull(titles).sum()))\n",
    "\n",
    "\n"
   ]
  },
  {
   "cell_type": "code",
   "execution_count": 7,
   "id": "6c3bb112",
   "metadata": {
    "execution": {
     "iopub.execute_input": "2023-12-20T15:53:08.681961Z",
     "iopub.status.busy": "2023-12-20T15:53:08.681559Z",
     "iopub.status.idle": "2023-12-20T15:53:08.692180Z",
     "shell.execute_reply": "2023-12-20T15:53:08.691184Z"
    },
    "papermill": {
     "duration": 0.019427,
     "end_time": "2023-12-20T15:53:08.694390",
     "exception": false,
     "start_time": "2023-12-20T15:53:08.674963",
     "status": "completed"
    },
    "tags": []
   },
   "outputs": [],
   "source": [
    "train_data = train_data.assign(Title=titles)\n",
    "train_data = train_data.drop('Name', axis=1)"
   ]
  },
  {
   "cell_type": "code",
   "execution_count": 8,
   "id": "1620602c",
   "metadata": {
    "execution": {
     "iopub.execute_input": "2023-12-20T15:53:08.708657Z",
     "iopub.status.busy": "2023-12-20T15:53:08.707877Z",
     "iopub.status.idle": "2023-12-20T15:53:08.718198Z",
     "shell.execute_reply": "2023-12-20T15:53:08.717143Z"
    },
    "papermill": {
     "duration": 0.019571,
     "end_time": "2023-12-20T15:53:08.720056",
     "exception": false,
     "start_time": "2023-12-20T15:53:08.700485",
     "status": "completed"
    },
    "tags": []
   },
   "outputs": [
    {
     "data": {
      "text/plain": [
       "Title\n",
       "Capt.          1\n",
       "Col.           2\n",
       "Countess.      1\n",
       "Don.           1\n",
       "Dr.            7\n",
       "Jonkheer.      1\n",
       "Lady.          1\n",
       "Major.         2\n",
       "Master.       40\n",
       "Miss.        182\n",
       "Mlle.          2\n",
       "Mme.           1\n",
       "Mr.          517\n",
       "Mrs.         125\n",
       "Ms.            1\n",
       "Rev.           6\n",
       "Sir.           1\n",
       "Name: Title, dtype: int64"
      ]
     },
     "execution_count": 8,
     "metadata": {},
     "output_type": "execute_result"
    }
   ],
   "source": [
    "train_data['Title'].groupby(train_data['Title']).size()"
   ]
  },
  {
   "cell_type": "code",
   "execution_count": 9,
   "id": "ccf67683",
   "metadata": {
    "execution": {
     "iopub.execute_input": "2023-12-20T15:53:08.733440Z",
     "iopub.status.busy": "2023-12-20T15:53:08.733147Z",
     "iopub.status.idle": "2023-12-20T15:53:08.749911Z",
     "shell.execute_reply": "2023-12-20T15:53:08.749117Z"
    },
    "papermill": {
     "duration": 0.026251,
     "end_time": "2023-12-20T15:53:08.752094",
     "exception": false,
     "start_time": "2023-12-20T15:53:08.725843",
     "status": "completed"
    },
    "tags": []
   },
   "outputs": [
    {
     "name": "stdout",
     "output_type": "stream",
     "text": [
      "Number of passengers:\n",
      "Title\n",
      "Army.        5\n",
      "Dr.          7\n",
      "Master.     40\n",
      "Miss.      185\n",
      "Mr.        517\n",
      "Mrs.       126\n",
      "Noble.       5\n",
      "Rev.         6\n",
      "dtype: int64\n",
      "\n",
      "Average survival:\n",
      "         Survived\n",
      "Title            \n",
      "Army.    0.400000\n",
      "Dr.      0.428571\n",
      "Master.  0.575000\n",
      "Miss.    0.702703\n",
      "Mr.      0.156673\n",
      "Mrs.     0.793651\n",
      "Noble.   0.600000\n",
      "Rev.     0.000000\n"
     ]
    }
   ],
   "source": [
    "# Replace titles as per the specified categories\n",
    "train_data['Title'] = train_data['Title'].replace('Mlle.', 'Miss.')\n",
    "train_data['Title'] = train_data['Title'].replace('Ms.', 'Miss.')\n",
    "train_data['Title'] = train_data['Title'].replace('Mme.', 'Mrs.')\n",
    "train_data['Title'] = train_data['Title'].replace(['Capt.', 'Col.', 'Major.'], 'Army.')\n",
    "train_data['Title'] = train_data['Title'].replace(['Countess.', 'Don.', 'Jonkheer.', 'Lady.', 'Sir.'], 'Noble.')\n",
    "\n",
    "# Display the number of passengers and average survival for each title\n",
    "print('Number of passengers:\\n{}'.format(train_data.groupby('Title').size()))\n",
    "print('')\n",
    "print('Average survival:\\n{}'.format(train_data[['Title', 'Survived']].groupby('Title').mean()))\n"
   ]
  },
  {
   "cell_type": "code",
   "execution_count": 10,
   "id": "5c3350d9",
   "metadata": {
    "execution": {
     "iopub.execute_input": "2023-12-20T15:53:08.764758Z",
     "iopub.status.busy": "2023-12-20T15:53:08.764410Z",
     "iopub.status.idle": "2023-12-20T15:53:08.774497Z",
     "shell.execute_reply": "2023-12-20T15:53:08.773803Z"
    },
    "papermill": {
     "duration": 0.018318,
     "end_time": "2023-12-20T15:53:08.776088",
     "exception": false,
     "start_time": "2023-12-20T15:53:08.757770",
     "status": "completed"
    },
    "tags": []
   },
   "outputs": [
    {
     "data": {
      "text/html": [
       "<div>\n",
       "<style scoped>\n",
       "    .dataframe tbody tr th:only-of-type {\n",
       "        vertical-align: middle;\n",
       "    }\n",
       "\n",
       "    .dataframe tbody tr th {\n",
       "        vertical-align: top;\n",
       "    }\n",
       "\n",
       "    .dataframe thead th {\n",
       "        text-align: right;\n",
       "    }\n",
       "</style>\n",
       "<table border=\"1\" class=\"dataframe\">\n",
       "  <thead>\n",
       "    <tr style=\"text-align: right;\">\n",
       "      <th></th>\n",
       "      <th>Survived</th>\n",
       "      <th>Pclass</th>\n",
       "      <th>Sex</th>\n",
       "      <th>Age</th>\n",
       "      <th>SibSp</th>\n",
       "      <th>Parch</th>\n",
       "      <th>Fare</th>\n",
       "      <th>Cabin</th>\n",
       "      <th>Embarked</th>\n",
       "      <th>Title</th>\n",
       "    </tr>\n",
       "    <tr>\n",
       "      <th>PassengerId</th>\n",
       "      <th></th>\n",
       "      <th></th>\n",
       "      <th></th>\n",
       "      <th></th>\n",
       "      <th></th>\n",
       "      <th></th>\n",
       "      <th></th>\n",
       "      <th></th>\n",
       "      <th></th>\n",
       "      <th></th>\n",
       "    </tr>\n",
       "  </thead>\n",
       "  <tbody>\n",
       "  </tbody>\n",
       "</table>\n",
       "</div>"
      ],
      "text/plain": [
       "Empty DataFrame\n",
       "Columns: [Survived, Pclass, Sex, Age, SibSp, Parch, Fare, Cabin, Embarked, Title]\n",
       "Index: []"
      ]
     },
     "execution_count": 10,
     "metadata": {},
     "output_type": "execute_result"
    }
   ],
   "source": [
    "train_data = train_data.drop('Ticket', axis=1)\n",
    "train_data.head(0)"
   ]
  },
  {
   "cell_type": "code",
   "execution_count": 11,
   "id": "c8c7c608",
   "metadata": {
    "execution": {
     "iopub.execute_input": "2023-12-20T15:53:08.789208Z",
     "iopub.status.busy": "2023-12-20T15:53:08.788782Z",
     "iopub.status.idle": "2023-12-20T15:53:08.794537Z",
     "shell.execute_reply": "2023-12-20T15:53:08.793370Z"
    },
    "papermill": {
     "duration": 0.015747,
     "end_time": "2023-12-20T15:53:08.797359",
     "exception": false,
     "start_time": "2023-12-20T15:53:08.781612",
     "status": "completed"
    },
    "tags": []
   },
   "outputs": [],
   "source": [
    "def getCabinCat(cabin_code):\n",
    "    if pd.isnull(cabin_code):\n",
    "        cat = 'None' #Use astring so that it is clear that this is a category on its own\n",
    "    else:\n",
    "        cat = cabin_code[0]\n",
    "    return cat    \n",
    "        "
   ]
  },
  {
   "cell_type": "code",
   "execution_count": 12,
   "id": "09c3bf25",
   "metadata": {
    "execution": {
     "iopub.execute_input": "2023-12-20T15:53:08.810758Z",
     "iopub.status.busy": "2023-12-20T15:53:08.810385Z",
     "iopub.status.idle": "2023-12-20T15:53:08.815760Z",
     "shell.execute_reply": "2023-12-20T15:53:08.814908Z"
    },
    "papermill": {
     "duration": 0.014106,
     "end_time": "2023-12-20T15:53:08.817482",
     "exception": false,
     "start_time": "2023-12-20T15:53:08.803376",
     "status": "completed"
    },
    "tags": []
   },
   "outputs": [],
   "source": [
    "cabin_cats = np.array([getCabinCat(cc)for cc in train_data['Cabin'].values])"
   ]
  },
  {
   "cell_type": "code",
   "execution_count": 13,
   "id": "f3e86b16",
   "metadata": {
    "execution": {
     "iopub.execute_input": "2023-12-20T15:53:08.830249Z",
     "iopub.status.busy": "2023-12-20T15:53:08.829926Z",
     "iopub.status.idle": "2023-12-20T15:53:08.841213Z",
     "shell.execute_reply": "2023-12-20T15:53:08.840112Z"
    },
    "papermill": {
     "duration": 0.019736,
     "end_time": "2023-12-20T15:53:08.842937",
     "exception": false,
     "start_time": "2023-12-20T15:53:08.823201",
     "status": "completed"
    },
    "tags": []
   },
   "outputs": [
    {
     "data": {
      "text/html": [
       "<div>\n",
       "<style scoped>\n",
       "    .dataframe tbody tr th:only-of-type {\n",
       "        vertical-align: middle;\n",
       "    }\n",
       "\n",
       "    .dataframe tbody tr th {\n",
       "        vertical-align: top;\n",
       "    }\n",
       "\n",
       "    .dataframe thead th {\n",
       "        text-align: right;\n",
       "    }\n",
       "</style>\n",
       "<table border=\"1\" class=\"dataframe\">\n",
       "  <thead>\n",
       "    <tr style=\"text-align: right;\">\n",
       "      <th></th>\n",
       "      <th>Survived</th>\n",
       "      <th>Pclass</th>\n",
       "      <th>Sex</th>\n",
       "      <th>Age</th>\n",
       "      <th>SibSp</th>\n",
       "      <th>Parch</th>\n",
       "      <th>Fare</th>\n",
       "      <th>Embarked</th>\n",
       "      <th>Title</th>\n",
       "      <th>Cabin_cat</th>\n",
       "    </tr>\n",
       "    <tr>\n",
       "      <th>PassengerId</th>\n",
       "      <th></th>\n",
       "      <th></th>\n",
       "      <th></th>\n",
       "      <th></th>\n",
       "      <th></th>\n",
       "      <th></th>\n",
       "      <th></th>\n",
       "      <th></th>\n",
       "      <th></th>\n",
       "      <th></th>\n",
       "    </tr>\n",
       "  </thead>\n",
       "  <tbody>\n",
       "  </tbody>\n",
       "</table>\n",
       "</div>"
      ],
      "text/plain": [
       "Empty DataFrame\n",
       "Columns: [Survived, Pclass, Sex, Age, SibSp, Parch, Fare, Embarked, Title, Cabin_cat]\n",
       "Index: []"
      ]
     },
     "execution_count": 13,
     "metadata": {},
     "output_type": "execute_result"
    }
   ],
   "source": [
    "#Let's add this as a new 'Cabin_cat' feature to the DataFrame, and remove the 'Cabin' feature\n",
    "\n",
    "train_data = train_data.assign(Cabin_cat=cabin_cats)\n",
    "train_data = train_data.drop('Cabin', axis=1)\n",
    "train_data.head(0)"
   ]
  },
  {
   "cell_type": "code",
   "execution_count": 14,
   "id": "fc1919dc",
   "metadata": {
    "execution": {
     "iopub.execute_input": "2023-12-20T15:53:08.856359Z",
     "iopub.status.busy": "2023-12-20T15:53:08.855407Z",
     "iopub.status.idle": "2023-12-20T15:53:08.862659Z",
     "shell.execute_reply": "2023-12-20T15:53:08.861415Z"
    },
    "papermill": {
     "duration": 0.015815,
     "end_time": "2023-12-20T15:53:08.864678",
     "exception": false,
     "start_time": "2023-12-20T15:53:08.848863",
     "status": "completed"
    },
    "tags": []
   },
   "outputs": [
    {
     "name": "stdout",
     "output_type": "stream",
     "text": [
      "Number of passengers:\n",
      "Cabin_cat\n",
      "A        15\n",
      "B        47\n",
      "C        59\n",
      "D        33\n",
      "E        32\n",
      "F        13\n",
      "G         4\n",
      "None    687\n",
      "T         1\n",
      "Name: Cabin_cat, dtype: int64\n"
     ]
    }
   ],
   "source": [
    "# To get as idea about the distribution of passengers amongst the cabin categories\n",
    "print('Number of passengers:\\n{}'.format(train_data['Cabin_cat'].\n",
    "                                        groupby(train_data['Cabin_cat']).size()))"
   ]
  },
  {
   "cell_type": "code",
   "execution_count": 15,
   "id": "14739908",
   "metadata": {
    "execution": {
     "iopub.execute_input": "2023-12-20T15:53:08.877938Z",
     "iopub.status.busy": "2023-12-20T15:53:08.877316Z",
     "iopub.status.idle": "2023-12-20T15:53:08.882992Z",
     "shell.execute_reply": "2023-12-20T15:53:08.882318Z"
    },
    "papermill": {
     "duration": 0.014836,
     "end_time": "2023-12-20T15:53:08.885223",
     "exception": false,
     "start_time": "2023-12-20T15:53:08.870387",
     "status": "completed"
    },
    "tags": []
   },
   "outputs": [],
   "source": [
    "# Exploratory data analysis\n",
    "\n",
    "survived_data = train_data.loc[train_data['Survived']==1,:]\n",
    "died_data = train_data.loc[train_data['Survived']==0,:]\n"
   ]
  },
  {
   "cell_type": "code",
   "execution_count": 16,
   "id": "3ab86f32",
   "metadata": {
    "execution": {
     "iopub.execute_input": "2023-12-20T15:53:08.899156Z",
     "iopub.status.busy": "2023-12-20T15:53:08.898579Z",
     "iopub.status.idle": "2023-12-20T15:53:09.248072Z",
     "shell.execute_reply": "2023-12-20T15:53:09.246248Z"
    },
    "papermill": {
     "duration": 0.359476,
     "end_time": "2023-12-20T15:53:09.250868",
     "exception": false,
     "start_time": "2023-12-20T15:53:08.891392",
     "status": "completed"
    },
    "tags": []
   },
   "outputs": [
    {
     "data": {
      "image/png": "[encoded data removed]",
      "text/plain": [
       "<Figure size 640x480 with 2 Axes>"
      ]
     },
     "metadata": {},
     "output_type": "display_data"
    }
   ],
   "source": [
    "# Split the survived and died data between male and female\n",
    "survived_male_data = survived_data.loc[survived_data['Sex'] == 'male', :]\n",
    "died_male_data = died_data.loc[died_data['Sex'] == 'male', :]\n",
    "survived_female_data = survived_data.loc[survived_data['Sex'] == 'female', :]\n",
    "died_female_data = died_data.loc[died_data['Sex'] == 'female', :]\n",
    "\n",
    "# Total number of males and females that survived and died\n",
    "survived_male_n = survived_male_data.shape[0]\n",
    "died_male_n = died_male_data.shape[0]\n",
    "survived_female_n = survived_female_data.shape[0]\n",
    "died_female_n = died_female_data.shape[0]\n",
    "\n",
    "\n",
    "import matplotlib.pyplot as plt\n",
    "\n",
    "# Define professional colors\n",
    "survived_color = '#4CAF50'  # Green\n",
    "died_color = '#FF5252'  # Red\n",
    "\n",
    "# Bar plotting\n",
    "fig, axes = plt.subplots(nrows=1, ncols=2)\n",
    "\n",
    "# Comparing number of survivals and sex\n",
    "plt.sca(axes[0])  # Use plt.sca to set the current axis\n",
    "survived = plt.bar([0.5, 3.5], [survived_male_n, survived_female_n], width=1, color=survived_color)\n",
    "died = plt.bar([1.5, 4.5], [died_male_n, died_female_n], width=1, color=died_color)\n",
    "plt.xticks([1, 4], ('Male', 'Female'))\n",
    "plt.ylabel('Number of passengers')\n",
    "plt.legend((survived, died), ('Survived', 'Died'), loc=0, fontsize='medium')\n",
    "\n",
    "# Survival vs Sex in fractions\n",
    "plt.sca(axes[1])  # Use plt.sca to set the current axis\n",
    "survived_pct = plt.bar([0.5, 3.5], [survived_male_n / (survived_male_n + died_male_n), survived_female_n / (survived_female_n + died_female_n)], width=1, color=survived_color)\n",
    "died_pct = plt.bar([1.5, 4.5], [died_male_n / (survived_male_n + died_male_n), died_female_n / (survived_female_n + died_female_n)], width=1, color=died_color)\n",
    "plt.xticks([1, 4], ('Male', 'Female'))\n",
    "plt.ylabel('Fraction')\n",
    "plt.legend((survived_pct, died_pct), ('Survived', 'Died'), fontsize='medium')  # Fix the legend\n",
    "fig.suptitle('Sex vs survival', fontsize='x-large', y=1.03)  # Fix the subtitle method\n",
    "plt.tight_layout()\n",
    "plt.show()\n"
   ]
  },
  {
   "cell_type": "code",
   "execution_count": 17,
   "id": "ca1c5015",
   "metadata": {
    "execution": {
     "iopub.execute_input": "2023-12-20T15:53:09.265960Z",
     "iopub.status.busy": "2023-12-20T15:53:09.265572Z",
     "iopub.status.idle": "2023-12-20T15:53:09.272404Z",
     "shell.execute_reply": "2023-12-20T15:53:09.271224Z"
    },
    "papermill": {
     "duration": 0.017643,
     "end_time": "2023-12-20T15:53:09.275134",
     "exception": false,
     "start_time": "2023-12-20T15:53:09.257491",
     "status": "completed"
    },
    "tags": []
   },
   "outputs": [],
   "source": [
    "# Function to check for NaNs and return non-NaN values\n",
    "def checkNans(arr, arr2=None):\n",
    "    mask_nan = np.isnan(arr)\n",
    "    if mask_nan.sum() > 0:\n",
    "        any_nan = True\n",
    "    else:\n",
    "        any_nan = False\n",
    "    n_nan = mask_nan.abs().sum()\n",
    "\n",
    "    masked_arr = arr[~mask_nan]\n",
    "    if arr2 is not None:\n",
    "        masked_arr2 = arr2[~mask_nan]\n",
    "        return any_nan, n_nan, masked_arr, masked_arr2\n",
    "    else:\n",
    "        return any_nan, n_nan, masked_arr"
   ]
  },
  {
   "cell_type": "code",
   "execution_count": 18,
   "id": "dad80808",
   "metadata": {
    "execution": {
     "iopub.execute_input": "2023-12-20T15:53:09.289797Z",
     "iopub.status.busy": "2023-12-20T15:53:09.289451Z",
     "iopub.status.idle": "2023-12-20T15:53:09.608721Z",
     "shell.execute_reply": "2023-12-20T15:53:09.607333Z"
    },
    "papermill": {
     "duration": 0.329236,
     "end_time": "2023-12-20T15:53:09.611001",
     "exception": false,
     "start_time": "2023-12-20T15:53:09.281765",
     "status": "completed"
    },
    "tags": []
   },
   "outputs": [
    {
     "name": "stdout",
     "output_type": "stream",
     "text": [
      "Survived Age Range: 52 - 52\n",
      "Died Age Range: 125 - 125\n",
      "Combined Age Range: 52 - 125\n"
     ]
    },
    {
     "data": {
      "image/png": "[encoded data removed]",
      "text/plain": [
       "<Figure size 640x480 with 1 Axes>"
      ]
     },
     "metadata": {},
     "output_type": "display_data"
    }
   ],
   "source": [
    "# Extract age data of the survived and died passengers, check for NaNs\n",
    "survived_age = checkNans(survived_data['Age'])[1]\n",
    "died_age = checkNans(died_data['Age'])[1]\n",
    "\n",
    "# Determine bin edges of the combined data to ensure equal bin widths for both groups\n",
    "stacked = np.hstack((survived_age, died_age))\n",
    "\n",
    "# Print information for debugging\n",
    "print(\"Survived Age Range:\", survived_age.min(), \"-\", survived_age.max())\n",
    "print(\"Died Age Range:\", died_age.min(), \"-\", died_age.max())\n",
    "print(\"Combined Age Range:\", stacked.min(), \"-\", stacked.max())\n",
    "\n",
    "# Create a new column 'AgeGroup' to categorize passengers into age groups\n",
    "bins = [0, 10, 20, 30, 40, 50, 60, 70, 80, 90, 100]\n",
    "train_data['AgeGroup'] = pd.cut(train_data['Age'], bins=bins, right=False)\n",
    "\n",
    "# Group by 'AgeGroup' and 'Survived', then count the number of passengers in each group\n",
    "age_survival_counts = train_data.groupby(['AgeGroup', 'Survived']).size().unstack()\n",
    "\n",
    "# Plot the bar chart\n",
    "ax = age_survival_counts.plot(kind='bar', stacked=True, color=['red', 'green'], alpha=0.7)\n",
    "\n",
    "# Customize the plot\n",
    "plt.title('Age Distribution of Survived and Deceased Passengers')\n",
    "plt.xlabel('Age Group')\n",
    "plt.ylabel('Number of Passengers')\n",
    "plt.legend(['Deceased', 'Survived'], loc='upper right', title='Survival')\n",
    "plt.xticks(rotation=45)\n",
    "plt.tight_layout()\n",
    "plt.show()"
   ]
  },
  {
   "cell_type": "code",
   "execution_count": 19,
   "id": "d3198720",
   "metadata": {
    "execution": {
     "iopub.execute_input": "2023-12-20T15:53:09.627041Z",
     "iopub.status.busy": "2023-12-20T15:53:09.626155Z",
     "iopub.status.idle": "2023-12-20T15:53:10.124271Z",
     "shell.execute_reply": "2023-12-20T15:53:10.123030Z"
    },
    "papermill": {
     "duration": 0.50862,
     "end_time": "2023-12-20T15:53:10.126790",
     "exception": false,
     "start_time": "2023-12-20T15:53:09.618170",
     "status": "completed"
    },
    "tags": []
   },
   "outputs": [
    {
     "name": "stderr",
     "output_type": "stream",
     "text": [
      "/opt/conda/lib/python3.10/site-packages/numpy/lib/histograms.py:883: RuntimeWarning: invalid value encountered in divide\n",
      "  return n/db/n.sum(), bin_edges\n"
     ]
    },
    {
     "data": {
      "image/png": "[encoded data removed]",
      "text/plain": [
       "<Figure size 800x400 with 2 Axes>"
      ]
     },
     "metadata": {},
     "output_type": "display_data"
    },
    {
     "name": "stdout",
     "output_type": "stream",
     "text": [
      "Survived Male Ages: 16\n",
      "Died Male Ages: 108\n",
      "Survived Female Ages: 36\n",
      "Died Female Ages: 17\n"
     ]
    }
   ],
   "source": [
    "import matplotlib.patches as mpatches\n",
    "\n",
    "# Extract age data of the survived and died passengers for males \n",
    "# and females separately, check for nans\n",
    "survived_male_age = checkNans(survived_male_data['Age'])[1]\n",
    "died_male_age = checkNans(died_male_data['Age'])[1]\n",
    "survived_female_age = checkNans(survived_female_data['Age'])[1]\n",
    "died_female_age = checkNans(died_female_data['Age'])[1]\n",
    "\n",
    "# Create patches for legend handles\n",
    "survived_handle = mpatches.Patch(facecolor='green', alpha=0.5, label='Survived')\n",
    "died_handle = mpatches.Patch(facecolor='red', alpha=0.5, label='Died')\n",
    "\n",
    "# Histogram\n",
    "# Create subplots with shared y-axis\n",
    "fig, axes = plt.subplots(nrows=1, ncols=2, figsize=(8, 4), sharey=True)\n",
    "\n",
    "# Male histogram\n",
    "plt.axes(axes[0])\n",
    "survived_male = plt.hist(survived_male_age, bins, density=1, facecolor='green', alpha=0.5, label='Survived')\n",
    "died_male = plt.hist(died_male_age, bins, density=1, facecolor='red', alpha=0.5, label='Died')\n",
    "plt.legend(handles=[survived_handle, died_handle], loc='upper right', fontsize='medium')\n",
    "plt.title('Male')\n",
    "plt.xlabel('Age [years]')\n",
    "plt.ylabel('Fraction')\n",
    "plt.xlim([0, max(survived_male_age.max(), died_male_age.max())])\n",
    "plt.tight_layout()\n",
    "\n",
    "# Female histogram\n",
    "plt.axes(axes[1])\n",
    "survived_female = plt.hist(survived_female_age, bins, density=1, facecolor='green', alpha=0.5, label='Survived')\n",
    "died_female = plt.hist(died_female_age, bins, density=1, facecolor='red', alpha=0.5, label='Died')\n",
    "plt.legend(handles=[survived_handle, died_handle], loc='upper right', fontsize='medium')\n",
    "plt.title('Female')\n",
    "plt.xlabel('Age [years]')\n",
    "plt.ylabel('Fraction')\n",
    "plt.xlim([0, max(survived_female_age.max(), died_female_age.max())])\n",
    "plt.tight_layout()\n",
    "fig.suptitle('Age vs. survival', fontsize='x-large', y=1.02)\n",
    "plt.show()\n",
    "print(\"Survived Male Ages:\", survived_male_age)\n",
    "print(\"Died Male Ages:\", died_male_age)\n",
    "print(\"Survived Female Ages:\", survived_female_age)\n",
    "print(\"Died Female Ages:\", died_female_age)\n"
   ]
  },
  {
   "cell_type": "code",
   "execution_count": 20,
   "id": "a75ac4b7",
   "metadata": {
    "execution": {
     "iopub.execute_input": "2023-12-20T15:53:10.142533Z",
     "iopub.status.busy": "2023-12-20T15:53:10.142192Z",
     "iopub.status.idle": "2023-12-20T15:53:10.148236Z",
     "shell.execute_reply": "2023-12-20T15:53:10.147033Z"
    },
    "papermill": {
     "duration": 0.016009,
     "end_time": "2023-12-20T15:53:10.150227",
     "exception": false,
     "start_time": "2023-12-20T15:53:10.134218",
     "status": "completed"
    },
    "tags": []
   },
   "outputs": [
    {
     "name": "stdout",
     "output_type": "stream",
     "text": [
      "Number of males aged <10: 0\n",
      "Number of females aged <10: 0\n"
     ]
    }
   ],
   "source": [
    "print('Number of males aged <10: {}'.format(np.count_nonzero(died_male_age < 10)))\n",
    "print('Number of females aged <10: {}'.format(np.count_nonzero(died_female_age < 10)))\n"
   ]
  },
  {
   "cell_type": "code",
   "execution_count": null,
   "id": "9f19ae74",
   "metadata": {
    "papermill": {
     "duration": 0.007679,
     "end_time": "2023-12-20T15:53:10.165385",
     "exception": false,
     "start_time": "2023-12-20T15:53:10.157706",
     "status": "completed"
    },
    "tags": []
   },
   "outputs": [],
   "source": []
  }
 ],
 "metadata": {
  "kaggle": {
   "accelerator": "none",
   "dataSources": [
    {
     "databundleVersionId": 26502,
     "sourceId": 3136,
     "sourceType": "competition"
    }
   ],
   "dockerImageVersionId": 30626,
   "isGpuEnabled": false,
   "isInternetEnabled": true,
   "language": "python",
   "sourceType": "notebook"
  },
  "kernelspec": {
   "display_name": "Python 3",
   "language": "python",
   "name": "python3"
  },
  "language_info": {
   "codemirror_mode": {
    "name": "ipython",
    "version": 3
   },
   "file_extension": ".py",
   "mimetype": "text/x-python",
   "name": "python",
   "nbconvert_exporter": "python",
   "pygments_lexer": "ipython3",
   "version": "3.10.12"
  },
  "papermill": {
   "default_parameters": {},
   "duration": 5.114223,
   "end_time": "2023-12-20T15:53:10.593189",
   "environment_variables": {},
   "exception": null,
   "input_path": "__notebook__.ipynb",
   "output_path": "__notebook__.ipynb",
   "parameters": {},
   "start_time": "2023-12-20T15:53:05.478966",
   "version": "2.4.0"
  }
 },
 "nbformat": 4,
 "nbformat_minor": 5
}
